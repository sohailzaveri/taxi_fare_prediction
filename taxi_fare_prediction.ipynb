{
 "cells": [
  {
   "cell_type": "code",
   "execution_count": 1,
   "id": "15f7e318",
   "metadata": {},
   "outputs": [],
   "source": [
    "import torch\n",
    "import torch.nn as nn\n",
    "\n",
    "import numpy as np\n",
    "import pandas as pd\n",
    "import matplotlib.pyplot as plt\n",
    "%matplotlib inline"
   ]
  },
  {
   "cell_type": "code",
   "execution_count": 2,
   "id": "a9aec57c",
   "metadata": {},
   "outputs": [],
   "source": [
    "df = pd.read_csv('NYCTaxiFares.csv')"
   ]
  },
  {
   "cell_type": "code",
   "execution_count": 3,
   "id": "c65cb20a",
   "metadata": {},
   "outputs": [
    {
     "data": {
      "text/html": [
       "<div>\n",
       "<style scoped>\n",
       "    .dataframe tbody tr th:only-of-type {\n",
       "        vertical-align: middle;\n",
       "    }\n",
       "\n",
       "    .dataframe tbody tr th {\n",
       "        vertical-align: top;\n",
       "    }\n",
       "\n",
       "    .dataframe thead th {\n",
       "        text-align: right;\n",
       "    }\n",
       "</style>\n",
       "<table border=\"1\" class=\"dataframe\">\n",
       "  <thead>\n",
       "    <tr style=\"text-align: right;\">\n",
       "      <th></th>\n",
       "      <th>pickup_datetime</th>\n",
       "      <th>fare_amount</th>\n",
       "      <th>fare_class</th>\n",
       "      <th>pickup_longitude</th>\n",
       "      <th>pickup_latitude</th>\n",
       "      <th>dropoff_longitude</th>\n",
       "      <th>dropoff_latitude</th>\n",
       "      <th>passenger_count</th>\n",
       "    </tr>\n",
       "  </thead>\n",
       "  <tbody>\n",
       "    <tr>\n",
       "      <th>29824</th>\n",
       "      <td>2010-04-21 22:41:05 UTC</td>\n",
       "      <td>12.9</td>\n",
       "      <td>1</td>\n",
       "      <td>-73.971808</td>\n",
       "      <td>40.794527</td>\n",
       "      <td>-73.961399</td>\n",
       "      <td>40.757543</td>\n",
       "      <td>3</td>\n",
       "    </tr>\n",
       "    <tr>\n",
       "      <th>46879</th>\n",
       "      <td>2010-04-15 11:35:40 UTC</td>\n",
       "      <td>6.5</td>\n",
       "      <td>0</td>\n",
       "      <td>-73.941883</td>\n",
       "      <td>40.798697</td>\n",
       "      <td>-73.960911</td>\n",
       "      <td>40.801166</td>\n",
       "      <td>1</td>\n",
       "    </tr>\n",
       "    <tr>\n",
       "      <th>10399</th>\n",
       "      <td>2010-04-24 14:21:51 UTC</td>\n",
       "      <td>6.9</td>\n",
       "      <td>0</td>\n",
       "      <td>-73.956320</td>\n",
       "      <td>40.771705</td>\n",
       "      <td>-73.975934</td>\n",
       "      <td>40.751854</td>\n",
       "      <td>2</td>\n",
       "    </tr>\n",
       "    <tr>\n",
       "      <th>50793</th>\n",
       "      <td>2010-04-24 23:38:49 UTC</td>\n",
       "      <td>8.5</td>\n",
       "      <td>0</td>\n",
       "      <td>-73.980550</td>\n",
       "      <td>40.740140</td>\n",
       "      <td>-73.993856</td>\n",
       "      <td>40.721144</td>\n",
       "      <td>1</td>\n",
       "    </tr>\n",
       "    <tr>\n",
       "      <th>93317</th>\n",
       "      <td>2010-04-19 12:38:51 UTC</td>\n",
       "      <td>6.5</td>\n",
       "      <td>0</td>\n",
       "      <td>-73.961207</td>\n",
       "      <td>40.777584</td>\n",
       "      <td>-73.969106</td>\n",
       "      <td>40.792624</td>\n",
       "      <td>1</td>\n",
       "    </tr>\n",
       "  </tbody>\n",
       "</table>\n",
       "</div>"
      ],
      "text/plain": [
       "               pickup_datetime  fare_amount  fare_class  pickup_longitude  \\\n",
       "29824  2010-04-21 22:41:05 UTC         12.9           1        -73.971808   \n",
       "46879  2010-04-15 11:35:40 UTC          6.5           0        -73.941883   \n",
       "10399  2010-04-24 14:21:51 UTC          6.9           0        -73.956320   \n",
       "50793  2010-04-24 23:38:49 UTC          8.5           0        -73.980550   \n",
       "93317  2010-04-19 12:38:51 UTC          6.5           0        -73.961207   \n",
       "\n",
       "       pickup_latitude  dropoff_longitude  dropoff_latitude  passenger_count  \n",
       "29824        40.794527         -73.961399         40.757543                3  \n",
       "46879        40.798697         -73.960911         40.801166                1  \n",
       "10399        40.771705         -73.975934         40.751854                2  \n",
       "50793        40.740140         -73.993856         40.721144                1  \n",
       "93317        40.777584         -73.969106         40.792624                1  "
      ]
     },
     "execution_count": 3,
     "metadata": {},
     "output_type": "execute_result"
    }
   ],
   "source": [
    "df = df.sample(frac = 1)\n",
    "df.tail()"
   ]
  },
  {
   "cell_type": "code",
   "execution_count": 4,
   "id": "f60490eb",
   "metadata": {},
   "outputs": [
    {
     "data": {
      "text/plain": [
       "array([0, 1])"
      ]
     },
     "execution_count": 4,
     "metadata": {},
     "output_type": "execute_result"
    }
   ],
   "source": [
    "df['fare_class'].unique()"
   ]
  },
  {
   "cell_type": "code",
   "execution_count": 5,
   "id": "79cacf45",
   "metadata": {},
   "outputs": [],
   "source": [
    "def haversine_distance(df, lat1, long1, lat2, long2):\n",
    "    \n",
    "    r = 6371  # average radius of Earth in km\n",
    "       \n",
    "    phi1 = np.radians(df[lat1])\n",
    "    phi2 = np.radians(df[lat2])\n",
    "    \n",
    "    delta_phi = np.radians(df[lat2]-df[lat1])\n",
    "    delta_lambda = np.radians(df[long2]-df[long1])\n",
    "     \n",
    "    a = np.sin(delta_phi/2)**2 + np.cos(phi1) * np.cos(phi2) * np.sin(delta_lambda/2)**2\n",
    "    c = 2 * np.arctan2(np.sqrt(a), np.sqrt(1-a))\n",
    "    d = (r * c) # in kilometers\n",
    "\n",
    "    return d"
   ]
  },
  {
   "cell_type": "code",
   "execution_count": 6,
   "id": "9dca5b3a",
   "metadata": {},
   "outputs": [],
   "source": [
    "df['dist_km'] = haversine_distance(df, 'pickup_latitude', 'pickup_longitude', 'dropoff_latitude', 'dropoff_longitude')"
   ]
  },
  {
   "cell_type": "code",
   "execution_count": 7,
   "id": "5869413a",
   "metadata": {},
   "outputs": [
    {
     "data": {
      "text/html": [
       "<div>\n",
       "<style scoped>\n",
       "    .dataframe tbody tr th:only-of-type {\n",
       "        vertical-align: middle;\n",
       "    }\n",
       "\n",
       "    .dataframe tbody tr th {\n",
       "        vertical-align: top;\n",
       "    }\n",
       "\n",
       "    .dataframe thead th {\n",
       "        text-align: right;\n",
       "    }\n",
       "</style>\n",
       "<table border=\"1\" class=\"dataframe\">\n",
       "  <thead>\n",
       "    <tr style=\"text-align: right;\">\n",
       "      <th></th>\n",
       "      <th>pickup_datetime</th>\n",
       "      <th>fare_amount</th>\n",
       "      <th>fare_class</th>\n",
       "      <th>pickup_longitude</th>\n",
       "      <th>pickup_latitude</th>\n",
       "      <th>dropoff_longitude</th>\n",
       "      <th>dropoff_latitude</th>\n",
       "      <th>passenger_count</th>\n",
       "      <th>dist_km</th>\n",
       "    </tr>\n",
       "  </thead>\n",
       "  <tbody>\n",
       "    <tr>\n",
       "      <th>109458</th>\n",
       "      <td>2010-04-15 18:36:44 UTC</td>\n",
       "      <td>5.70</td>\n",
       "      <td>0</td>\n",
       "      <td>-73.991918</td>\n",
       "      <td>40.758221</td>\n",
       "      <td>-74.000787</td>\n",
       "      <td>40.747377</td>\n",
       "      <td>1</td>\n",
       "      <td>1.418472</td>\n",
       "    </tr>\n",
       "    <tr>\n",
       "      <th>110888</th>\n",
       "      <td>2010-04-12 15:13:59 UTC</td>\n",
       "      <td>6.10</td>\n",
       "      <td>0</td>\n",
       "      <td>-73.884115</td>\n",
       "      <td>40.738228</td>\n",
       "      <td>-73.895635</td>\n",
       "      <td>40.750233</td>\n",
       "      <td>1</td>\n",
       "      <td>1.650398</td>\n",
       "    </tr>\n",
       "    <tr>\n",
       "      <th>82325</th>\n",
       "      <td>2010-04-16 17:13:19 UTC</td>\n",
       "      <td>18.90</td>\n",
       "      <td>1</td>\n",
       "      <td>-73.967838</td>\n",
       "      <td>40.792893</td>\n",
       "      <td>-73.967280</td>\n",
       "      <td>40.793363</td>\n",
       "      <td>1</td>\n",
       "      <td>0.070270</td>\n",
       "    </tr>\n",
       "    <tr>\n",
       "      <th>28981</th>\n",
       "      <td>2010-04-16 19:54:02 UTC</td>\n",
       "      <td>12.50</td>\n",
       "      <td>1</td>\n",
       "      <td>-73.981165</td>\n",
       "      <td>40.753109</td>\n",
       "      <td>-73.988302</td>\n",
       "      <td>40.720256</td>\n",
       "      <td>1</td>\n",
       "      <td>3.702247</td>\n",
       "    </tr>\n",
       "    <tr>\n",
       "      <th>62240</th>\n",
       "      <td>2010-04-16 13:40:00 UTC</td>\n",
       "      <td>49.57</td>\n",
       "      <td>1</td>\n",
       "      <td>-73.976178</td>\n",
       "      <td>40.779700</td>\n",
       "      <td>-73.782368</td>\n",
       "      <td>40.648787</td>\n",
       "      <td>1</td>\n",
       "      <td>21.879858</td>\n",
       "    </tr>\n",
       "  </tbody>\n",
       "</table>\n",
       "</div>"
      ],
      "text/plain": [
       "                pickup_datetime  fare_amount  fare_class  pickup_longitude  \\\n",
       "109458  2010-04-15 18:36:44 UTC         5.70           0        -73.991918   \n",
       "110888  2010-04-12 15:13:59 UTC         6.10           0        -73.884115   \n",
       "82325   2010-04-16 17:13:19 UTC        18.90           1        -73.967838   \n",
       "28981   2010-04-16 19:54:02 UTC        12.50           1        -73.981165   \n",
       "62240   2010-04-16 13:40:00 UTC        49.57           1        -73.976178   \n",
       "\n",
       "        pickup_latitude  dropoff_longitude  dropoff_latitude  passenger_count  \\\n",
       "109458        40.758221         -74.000787         40.747377                1   \n",
       "110888        40.738228         -73.895635         40.750233                1   \n",
       "82325         40.792893         -73.967280         40.793363                1   \n",
       "28981         40.753109         -73.988302         40.720256                1   \n",
       "62240         40.779700         -73.782368         40.648787                1   \n",
       "\n",
       "          dist_km  \n",
       "109458   1.418472  \n",
       "110888   1.650398  \n",
       "82325    0.070270  \n",
       "28981    3.702247  \n",
       "62240   21.879858  "
      ]
     },
     "execution_count": 7,
     "metadata": {},
     "output_type": "execute_result"
    }
   ],
   "source": [
    "df.head()"
   ]
  },
  {
   "cell_type": "code",
   "execution_count": 8,
   "id": "53288052",
   "metadata": {},
   "outputs": [
    {
     "data": {
      "text/plain": [
       "<matplotlib.collections.PathCollection at 0x7fd2a1516438>"
      ]
     },
     "execution_count": 8,
     "metadata": {},
     "output_type": "execute_result"
    },
    {
     "data": {
      "image/png": "[encoded data removed]",
      "text/plain": [
       "<Figure size 432x288 with 1 Axes>"
      ]
     },
     "metadata": {
      "needs_background": "light"
     },
     "output_type": "display_data"
    }
   ],
   "source": [
    "plt.scatter(df['fare_amount'], df['dist_km'])"
   ]
  },
  {
   "cell_type": "code",
   "execution_count": 9,
   "id": "538f16bb",
   "metadata": {},
   "outputs": [],
   "source": [
    "df['pickup_datetime'] = pd.to_datetime(df['pickup_datetime'])"
   ]
  },
  {
   "cell_type": "code",
   "execution_count": 10,
   "id": "e33f7794",
   "metadata": {},
   "outputs": [],
   "source": [
    "my_time = df['pickup_datetime'][0]"
   ]
  },
  {
   "cell_type": "code",
   "execution_count": 11,
   "id": "dda27a1f",
   "metadata": {},
   "outputs": [],
   "source": [
    "df['EDTdate'] = df['pickup_datetime'] - pd.Timedelta(hours=4)"
   ]
  },
  {
   "cell_type": "code",
   "execution_count": 12,
   "id": "52e0dea1",
   "metadata": {},
   "outputs": [],
   "source": [
    "df['Hour'] = df['EDTdate'].dt.hour"
   ]
  },
  {
   "cell_type": "code",
   "execution_count": 13,
   "id": "de799603",
   "metadata": {},
   "outputs": [],
   "source": [
    "df['AMorPM'] = (df['Hour'] < 12).map({True : 'AM', False : 'PM'})\n",
    "# df['AMorPM'] = np.where(df['Hour'] < 12, 'AM', 'PM')\n",
    "# df['AMorPM2'] = df['Hour'].apply(lambda x: 'AM' if x < 12 else 'PM')\n",
    "# df.drop('AMorPM2', axis = 1, inplace = True)"
   ]
  },
  {
   "cell_type": "code",
   "execution_count": 14,
   "id": "1cecc358",
   "metadata": {},
   "outputs": [],
   "source": [
    "df['Weekday'] = df['EDTdate'].dt.strftime('%a')\n",
    "# df['Weekday'] = df['EDTdate'].dt.dayofweek"
   ]
  },
  {
   "cell_type": "code",
   "execution_count": 15,
   "id": "623cb341",
   "metadata": {},
   "outputs": [],
   "source": [
    "cat_cols = ['Hour', 'AMorPM', 'Weekday']\n",
    "cont_cols = ['pickup_longitude',\n",
    "       'pickup_latitude', 'dropoff_longitude', 'dropoff_latitude',\n",
    "       'passenger_count', 'dist_km']\n",
    "y_col = ['fare_amount']"
   ]
  },
  {
   "cell_type": "code",
   "execution_count": 16,
   "id": "bdffbe90",
   "metadata": {},
   "outputs": [],
   "source": [
    "for col in cat_cols:\n",
    "    df[col] = df[col].astype('category')"
   ]
  },
  {
   "cell_type": "code",
   "execution_count": 17,
   "id": "5f565479",
   "metadata": {},
   "outputs": [],
   "source": [
    "hours = df['Hour'].cat.codes.values\n",
    "ampm = df['AMorPM'].cat.codes.values\n",
    "weekday = df['Weekday'].cat.codes.values\n",
    "#df['Hour'].cat.categories"
   ]
  },
  {
   "cell_type": "code",
   "execution_count": 18,
   "id": "79da280c",
   "metadata": {},
   "outputs": [],
   "source": [
    "cats = np.stack([hours, ampm, weekday], axis = 1)\n",
    "cats = torch.tensor(cats, dtype = torch.int64)\n",
    "cat_szs = [len(df[col].cat.categories) for col in cat_cols]\n",
    "emb_szs = [(size, min(50, (size+1)//2)) for size in cat_szs]\n",
    "catz = cats[:2]"
   ]
  },
  {
   "cell_type": "code",
   "execution_count": 19,
   "id": "63b3d5e5",
   "metadata": {},
   "outputs": [],
   "source": [
    "conts = np.stack([df[col] for col in cont_cols], axis = 1)\n",
    "conts = torch.tensor(conts, dtype = torch.float)"
   ]
  },
  {
   "cell_type": "code",
   "execution_count": 20,
   "id": "684a08f3",
   "metadata": {},
   "outputs": [],
   "source": [
    "y = torch.tensor(df[y_col].values, dtype = torch.float)"
   ]
  },
  {
   "cell_type": "code",
   "execution_count": 21,
   "id": "d3cf3e67",
   "metadata": {},
   "outputs": [],
   "source": [
    "selfembeds = nn.ModuleList([nn.Embedding(ni, nf) for ni, nf in emb_szs])"
   ]
  },
  {
   "cell_type": "code",
   "execution_count": 22,
   "id": "d014e3de",
   "metadata": {},
   "outputs": [],
   "source": [
    "embeddings = []\n",
    "\n",
    "for i, e in enumerate(selfembeds):\n",
    "    embeddings.append(e(catz[:, i]))"
   ]
  },
  {
   "cell_type": "code",
   "execution_count": 23,
   "id": "e90139c0",
   "metadata": {},
   "outputs": [
    {
     "name": "stdout",
     "output_type": "stream",
     "text": [
      "tensor([[-0.0858, -0.4603, -0.2392, -0.1933, -1.3288,  0.4670,  0.7579, -1.3048,\n",
      "          1.7103, -0.8346,  0.6708,  0.6821],\n",
      "        [ 0.4254,  0.8677,  1.2941,  1.4482, -0.3255, -1.3831,  0.2686,  0.1928,\n",
      "          0.0487,  0.2392, -0.6449,  0.1324]], grad_fn=<EmbeddingBackward>)\n",
      "tensor([[1.1921],\n",
      "        [0.5983]], grad_fn=<EmbeddingBackward>)\n",
      "tensor([[-3.0453,  0.8579,  0.1950, -1.4311],\n",
      "        [ 0.9151,  0.9821, -0.2597, -0.5838]], grad_fn=<EmbeddingBackward>)\n"
     ]
    }
   ],
   "source": [
    "for e in embeddings:\n",
    "    print(e)"
   ]
  },
  {
   "cell_type": "code",
   "execution_count": 24,
   "id": "1f09df05",
   "metadata": {},
   "outputs": [],
   "source": [
    "class TabularModel(nn.Module):\n",
    "    \n",
    "    def __init__(self, emb_szs, n_cont, layers, out_sz, p = 0.5):\n",
    "        \n",
    "        super().__init__()\n",
    "        \n",
    "        self.embeds = nn.ModuleList([nn.Embedding(ni, nf) for ni, nf in emb_szs])\n",
    "        self.drop = nn.Dropout(p)\n",
    "        self.bn_cont = nn.BatchNorm1d(n_cont)\n",
    "        \n",
    "        layerslist = []\n",
    "        n_emb = sum([nf for ni, nf in emb_szs])\n",
    "        n_in = n_emb + n_cont\n",
    "        \n",
    "        for i in layers:\n",
    "            layerslist.append(nn.Linear(n_in, i))\n",
    "            layerslist.append(nn.ReLU(inplace = True))\n",
    "            layerslist.append(nn.BatchNorm1d(i))\n",
    "            layerslist.append(nn.Dropout(p))\n",
    "            n_in = i\n",
    "            \n",
    "        layerslist.append(nn.Linear(layers[-1], out_sz))\n",
    "        \n",
    "        self.layers = nn.Sequential(*layerslist)\n",
    "    \n",
    "    \n",
    "    def forward(self, x_cat, x_cont):\n",
    "        \n",
    "        embeddings = []\n",
    "        \n",
    "        for i, e in enumerate(self.embeds):\n",
    "            embeddings.append(e(x_cat[:, i]))\n",
    "            \n",
    "        x = torch.cat(embeddings, 1)\n",
    "        x = self.drop(x)\n",
    "        \n",
    "        x_cont = self.bn_cont(x_cont)\n",
    "        x = torch.cat([x, x_cont], 1)\n",
    "        \n",
    "        x = self.layers(x)\n",
    "        \n",
    "        return x\n",
    "            "
   ]
  },
  {
   "cell_type": "code",
   "execution_count": 25,
   "id": "19195d81",
   "metadata": {},
   "outputs": [],
   "source": [
    "torch.manual_seed(33)\n",
    "\n",
    "model = TabularModel(emb_szs, len(cont_cols), [200, 100], 1, 0.5)"
   ]
  },
  {
   "cell_type": "code",
   "execution_count": 26,
   "id": "9603e9d7",
   "metadata": {},
   "outputs": [
    {
     "data": {
      "text/plain": [
       "TabularModel(\n",
       "  (embeds): ModuleList(\n",
       "    (0): Embedding(24, 12)\n",
       "    (1): Embedding(2, 1)\n",
       "    (2): Embedding(7, 4)\n",
       "  )\n",
       "  (drop): Dropout(p=0.5)\n",
       "  (bn_cont): BatchNorm1d(6, eps=1e-05, momentum=0.1, affine=True, track_running_stats=True)\n",
       "  (layers): Sequential(\n",
       "    (0): Linear(in_features=23, out_features=200, bias=True)\n",
       "    (1): ReLU(inplace)\n",
       "    (2): BatchNorm1d(200, eps=1e-05, momentum=0.1, affine=True, track_running_stats=True)\n",
       "    (3): Dropout(p=0.5)\n",
       "    (4): Linear(in_features=200, out_features=100, bias=True)\n",
       "    (5): ReLU(inplace)\n",
       "    (6): BatchNorm1d(100, eps=1e-05, momentum=0.1, affine=True, track_running_stats=True)\n",
       "    (7): Dropout(p=0.5)\n",
       "    (8): Linear(in_features=100, out_features=1, bias=True)\n",
       "  )\n",
       ")"
      ]
     },
     "execution_count": 26,
     "metadata": {},
     "output_type": "execute_result"
    }
   ],
   "source": [
    "model"
   ]
  },
  {
   "cell_type": "code",
   "execution_count": 27,
   "id": "0125b65e",
   "metadata": {},
   "outputs": [],
   "source": [
    "criterion = nn.MSELoss()\n",
    "optimizer = torch.optim.Adam(model.parameters(), lr = 0.001)"
   ]
  },
  {
   "cell_type": "code",
   "execution_count": 28,
   "id": "20d0ae5f",
   "metadata": {},
   "outputs": [],
   "source": [
    "batch_size = 60000\n",
    "test_size = int(0.2*batch_size)"
   ]
  },
  {
   "cell_type": "code",
   "execution_count": 29,
   "id": "fd7d9e7f",
   "metadata": {},
   "outputs": [],
   "source": [
    "cat_train = cats[ : batch_size - test_size]\n",
    "cat_test = cats[batch_size - test_size : batch_size]\n",
    "cont_train = conts[ : batch_size - test_size]\n",
    "cont_test = conts[batch_size - test_size : batch_size]\n",
    "y_train = y[ : batch_size - test_size]\n",
    "y_test = y[batch_size - test_size : batch_size]"
   ]
  },
  {
   "cell_type": "code",
   "execution_count": 30,
   "id": "23e84fb6",
   "metadata": {},
   "outputs": [
    {
     "name": "stdout",
     "output_type": "stream",
     "text": [
      "epoch : 1 \t loss : 12.467013359069824\n",
      "epoch : 26 \t loss : 11.588356971740723\n",
      "epoch : 51 \t loss : 10.563981056213379\n",
      "epoch : 76 \t loss : 9.604867935180664\n",
      "epoch : 101 \t loss : 8.782537460327148\n",
      "epoch : 126 \t loss : 7.869760513305664\n",
      "epoch : 151 \t loss : 6.7764811515808105\n",
      "epoch : 176 \t loss : 5.5644121170043945\n",
      "epoch : 201 \t loss : 4.520942211151123\n",
      "epoch : 226 \t loss : 3.8854475021362305\n",
      "epoch : 251 \t loss : 3.70420241355896\n",
      "epoch : 276 \t loss : 3.6308646202087402\n"
     ]
    }
   ],
   "source": [
    "epochs = 300\n",
    "losses = []\n",
    "\n",
    "for i in range(epochs):\n",
    "    \n",
    "    i += 1\n",
    "    \n",
    "    y_pred = model.forward(cat_train, cont_train)\n",
    "    loss = torch.sqrt(criterion(y_pred, y_train))\n",
    "    losses.append(loss)\n",
    "    \n",
    "    if i%25 == 1 : print(f'epoch : {i} \\t loss : {loss}')\n",
    "    \n",
    "    optimizer.zero_grad()\n",
    "    loss.backward()\n",
    "    optimizer.step()"
   ]
  },
  {
   "cell_type": "code",
   "execution_count": 31,
   "id": "2e448e36",
   "metadata": {},
   "outputs": [
    {
     "data": {
      "text/plain": [
       "[<matplotlib.lines.Line2D at 0x7fd2a30527f0>]"
      ]
     },
     "execution_count": 31,
     "metadata": {},
     "output_type": "execute_result"
    },
    {
     "data": {
      "image/png": "[encoded data removed]",
      "text/plain": [
       "<Figure size 432x288 with 1 Axes>"
      ]
     },
     "metadata": {
      "needs_background": "light"
     },
     "output_type": "display_data"
    }
   ],
   "source": [
    "plt.plot(range(epochs), losses)"
   ]
  },
  {
   "cell_type": "code",
   "execution_count": 32,
   "id": "2fe0aeba",
   "metadata": {},
   "outputs": [],
   "source": [
    "with torch.no_grad():\n",
    "    y_eval = model(cat_test, cont_test)\n",
    "    loss = torch.sqrt(criterion(y_eval, y_test))"
   ]
  },
  {
   "cell_type": "code",
   "execution_count": 33,
   "id": "ff82dbd4",
   "metadata": {},
   "outputs": [
    {
     "data": {
      "text/plain": [
       "tensor(3.4857)"
      ]
     },
     "execution_count": 33,
     "metadata": {},
     "output_type": "execute_result"
    }
   ],
   "source": [
    "loss"
   ]
  },
  {
   "cell_type": "code",
   "execution_count": 34,
   "id": "ed615654",
   "metadata": {},
   "outputs": [
    {
     "name": "stdout",
     "output_type": "stream",
     "text": [
      " Predicted Value : tensor([5.1223]) Actual value : tensor([4.5000]) \n",
      " Predicted Value : tensor([10.3776]) Actual value : tensor([13.3000]) \n",
      " Predicted Value : tensor([5.3217]) Actual value : tensor([4.1000]) \n",
      " Predicted Value : tensor([4.9386]) Actual value : tensor([6.5000]) \n",
      " Predicted Value : tensor([3.7614]) Actual value : tensor([3.3000]) \n",
      " Predicted Value : tensor([6.6376]) Actual value : tensor([8.9000]) \n",
      " Predicted Value : tensor([49.4731]) Actual value : tensor([49.5700]) \n",
      " Predicted Value : tensor([7.0475]) Actual value : tensor([8.5000]) \n",
      " Predicted Value : tensor([3.3158]) Actual value : tensor([14.5000]) \n",
      " Predicted Value : tensor([9.0858]) Actual value : tensor([10.5000]) \n"
     ]
    }
   ],
   "source": [
    "with torch.no_grad():\n",
    "    for i in range(10):\n",
    "        print(f' Predicted Value : {y_eval[i]} Actual value : {y_test[i]} ')"
   ]
  },
  {
   "cell_type": "code",
   "execution_count": 35,
   "id": "466c4ccf",
   "metadata": {},
   "outputs": [],
   "source": [
    "torch.save(model.state_dict(), 'taxi_fare_predictor.pt')"
   ]
  },
  {
   "cell_type": "code",
   "execution_count": null,
   "id": "9499f54e",
   "metadata": {},
   "outputs": [],
   "source": []
  }
 ],
 "metadata": {
  "kernelspec": {
   "display_name": "Python 3",
   "language": "python",
   "name": "python3"
  },
  "language_info": {
   "codemirror_mode": {
    "name": "ipython",
    "version": 3
   },
   "file_extension": ".py",
   "mimetype": "text/x-python",
   "name": "python",
   "nbconvert_exporter": "python",
   "pygments_lexer": "ipython3",
   "version": "3.7.3"
  }
 },
 "nbformat": 4,
 "nbformat_minor": 5
}
